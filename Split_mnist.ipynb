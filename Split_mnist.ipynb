{
 "cells": [
  {
   "cell_type": "code",
   "execution_count": 1,
   "metadata": {
    "collapsed": false
   },
   "outputs": [
    {
     "name": "stderr",
     "output_type": "stream",
     "text": [
      "/usr/local/lib/python2.7/site-packages/matplotlib/font_manager.py:273: UserWarning: Matplotlib is building the font cache using fc-list. This may take a moment.\n",
      "  warnings.warn('Matplotlib is building the font cache using fc-list. This may take a moment.')\n"
     ]
    }
   ],
   "source": [
    "import tensorflow as tf\n",
    "import numpy as np\n",
    "from copy import deepcopy\n",
    "from tensorflow.examples.tutorials.mnist import input_data\n",
    "%matplotlib inline\n",
    "import matplotlib.pyplot as plt\n",
    "import matplotlib.image as mpimg\n",
    "from IPython import display"
   ]
  },
  {
   "cell_type": "code",
   "execution_count": 2,
   "metadata": {
    "collapsed": true
   },
   "outputs": [],
   "source": [
    "learning_rate = 0.001\n",
    "batch_size = 100\n",
    "disp_freq = 100\n",
    "\n",
    "n_input = 784 # MNIST data input (img shape: 28*28)\n",
    "n_classes = 10 # MNIST total classes (0-9 digits)\n",
    "dropout = 0.75\n",
    "\n",
    "x = tf.placeholder(tf.float32, [None, n_input])\n",
    "y_ = tf.placeholder(tf.float32, [None, n_classes])\n",
    "keep_prob = tf.placeholder(tf.float32) #dropout (keep probability)"
   ]
  },
  {
   "cell_type": "code",
   "execution_count": 3,
   "metadata": {
    "collapsed": false
   },
   "outputs": [
    {
     "name": "stdout",
     "output_type": "stream",
     "text": [
      "Extracting MNIST_data/train-images-idx3-ubyte.gz\n",
      "Extracting MNIST_data/train-labels-idx1-ubyte.gz\n",
      "Extracting MNIST_data/t10k-images-idx3-ubyte.gz\n",
      "Extracting MNIST_data/t10k-labels-idx1-ubyte.gz\n"
     ]
    }
   ],
   "source": [
    "mnist = input_data.read_data_sets('MNIST_data', one_hot=True)\n",
    "i = 0\n",
    "train_img = mnist.train.images\n",
    "mnist1_img = []\n",
    "mnist1_label = []\n",
    "mnist2_img = []\n",
    "mnist2_label = []\n",
    "mnist3_img = []\n",
    "mnist3_label = []\n",
    "\n",
    "mnist1_test_img = []\n",
    "mnist1_test_label = []\n",
    "mnist2_test_img = []\n",
    "mnist2_test_label = []\n",
    "mnist3_test_img = []\n",
    "mnist3_test_label = []\n",
    "\n",
    "test_img = mnist.test.images\n",
    "\n",
    "while(i < train_img.shape[0]):\n",
    "    batch = mnist.train.next_batch(1)\n",
    "    if (np.where(batch[1] == 1)[1] <= 3):\n",
    "        mnist1_img.append(batch[0])\n",
    "        mnist1_label.append(batch[1])\n",
    "    if (np.where(batch[1] == 1)[1] > 3 and np.where(batch[1] == 1)[1] <= 6):\n",
    "        mnist2_img.append(batch[0])\n",
    "        mnist2_label.append(batch[1])\n",
    "    if (np.where(batch[1] == 1)[1] > 6):\n",
    "        mnist3_img.append(batch[0])\n",
    "        mnist3_label.append(batch[1])\n",
    "    i+=1"
   ]
  },
  {
   "cell_type": "code",
   "execution_count": null,
   "metadata": {
    "collapsed": false
   },
   "outputs": [],
   "source": [
    "mnist1 = zip(mnist1_img,mnist1_label)\n",
    "img,label = tf.train.batch([mnist1_img,mnist1_label],100)"
   ]
  },
  {
   "cell_type": "code",
   "execution_count": null,
   "metadata": {
    "collapsed": true
   },
   "outputs": [],
   "source": []
  }
 ],
 "metadata": {
  "kernelspec": {
   "display_name": "Python 2",
   "language": "python",
   "name": "python2"
  },
  "language_info": {
   "codemirror_mode": {
    "name": "ipython",
    "version": 2
   },
   "file_extension": ".py",
   "mimetype": "text/x-python",
   "name": "python",
   "nbconvert_exporter": "python",
   "pygments_lexer": "ipython2",
   "version": "2.7.12"
  }
 },
 "nbformat": 4,
 "nbformat_minor": 2
}
