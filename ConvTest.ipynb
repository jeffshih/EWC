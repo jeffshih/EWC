{
 "cells": [
  {
   "cell_type": "code",
   "execution_count": 1,
   "metadata": {
    "collapsed": false
   },
   "outputs": [
    {
     "name": "stderr",
     "output_type": "stream",
     "text": [
      "/usr/local/lib/python2.7/site-packages/matplotlib/font_manager.py:273: UserWarning: Matplotlib is building the font cache using fc-list. This may take a moment.\n",
      "  warnings.warn('Matplotlib is building the font cache using fc-list. This may take a moment.')\n"
     ]
    }
   ],
   "source": [
    "import tensorflow as tf\n",
    "import numpy as np\n",
    "from copy import deepcopy\n",
    "from tensorflow.examples.tutorials.mnist import input_data\n",
    "%matplotlib inline\n",
    "import matplotlib.pyplot as plt\n",
    "import matplotlib.image as mpimg\n",
    "from IPython import display"
   ]
  },
  {
   "cell_type": "code",
   "execution_count": 10,
   "metadata": {
    "collapsed": true
   },
   "outputs": [],
   "source": [
    "learning_rate = 0.001\n",
    "training_iters = 200000\n",
    "batch_size = 16\n",
    "disp_freq = 100\n",
    "\n",
    "n_input = 784 # MNIST data input (img shape: 28*28)\n",
    "n_classes = 10 # MNIST total classes (0-9 digits)\n",
    "dropout = 0.75\n",
    "\n",
    "x = tf.placeholder(tf.float32, [None, n_input])\n",
    "y_ = tf.placeholder(tf.float32, [None, n_classes])\n",
    "keep_prob = tf.placeholder(tf.float32) #dropout (keep probability)"
   ]
  },
  {
   "cell_type": "code",
   "execution_count": 40,
   "metadata": {
    "collapsed": false
   },
   "outputs": [],
   "source": [
    "\n",
    "def conv2d(x,w,b,strides=1):\n",
    "    x = tf.nn.conv2d(x,w,strides=[1, strides, strides, 1], padding='SAME')\n",
    "    x = tf.nn.bias_add(x,b)\n",
    "    return tf.nn.relu(x)\n",
    "\n",
    "def maxpool(x,k=2):\n",
    "    return tf.nn.max_pool(x, ksize=[1, k, k, 1], strides=[1, k, k, 1],padding='SAME')\n",
    "\n",
    "class Model:\n",
    "\n",
    "\n",
    "    def __init__(self, x, y_,dropout):\n",
    "\n",
    "        w1 = tf.Variable(tf.random_normal([5, 5, 1, 32]))\n",
    "        w2 = tf.Variable(tf.random_normal([5, 5, 32, 64]))\n",
    "        w3 = tf.Variable(tf.random_normal([7*7*256,1024]))\n",
    "        wout = tf.Variable(tf.random_normal([1024, n_classes]))\n",
    "        b1 = tf.Variable(tf.random_normal([32]))\n",
    "        b2 = tf.Variable(tf.random_normal([64]))\n",
    "        b3 = tf.Variable(tf.random_normal([1024]))\n",
    "        bout = tf.Variable(tf.random_normal([n_classes]))\n",
    "       \n",
    "\n",
    "        x = tf.reshape(x, shape=[-1, 28, 28, 1])\n",
    "        conv1 = conv2d(x, w1, b1)\n",
    "        print w1.get_shape().as_list()[0]\n",
    "        pool1 = maxpool(conv1,k=2)\n",
    "        conv2 = conv2d(pool1,w2,b2)\n",
    "        print w2.get_shape().as_list()\n",
    "        pool2 = maxpool(conv2,k=2)\n",
    "        print w3.get_shape().as_list()\n",
    "        print conv2\n",
    "        fc1 = tf.reshape(conv2, [-1, w3.get_shape().as_list()[0]])\n",
    "        print fc1\n",
    "        fc1 = tf.add(tf.matmul(fc1, w3), b3)\n",
    "        fc1 = tf.nn.relu(fc1)\n",
    "        fc1 = tf.nn.dropout(fc1, dropout)\n",
    "        out = tf.add(tf.matmul(fc1, wout), bout)\n",
    "        self.x = x\n",
    "        self.y = out\n",
    "        self.var_list=[w1,w2,w3,wout,b1,b2,b3,bout]\n",
    "        \n",
    "        self.cross_entropy = tf.reduce_mean(tf.nn.softmax_cross_entropy_with_logits(labels=y_, logits=self.y))\n",
    "        self.set_vanilla_loss()\n",
    "        correct_prediction = tf.equal(tf.argmax(self.y,1), tf.argmax(y_,1))\n",
    "        self.accuracy = tf.reduce_mean(tf.cast(correct_prediction, tf.float32))\n",
    "        \n",
    "    def compute_fisher(self, imgset, sess, num_samples=200, plot_diffs=False, disp_freq=10):\n",
    "        # computer Fisher information for each parameter\n",
    "\n",
    "        # initialize Fisher information for most recent task\n",
    "        self.F_accum = []\n",
    "        for v in range(len(self.var_list)):\n",
    "            self.F_accum.append(np.zeros(self.var_list[v].get_shape().as_list()))\n",
    "\n",
    "        # sampling a random class from softmax\n",
    "        probs = tf.nn.softmax(self.y)\n",
    "        class_ind = tf.to_int32(tf.multinomial(tf.log(probs), 1)[0][0])\n",
    "\n",
    "        if(plot_diffs):\n",
    "            # track differences in mean Fisher info\n",
    "            F_prev = deepcopy(self.F_accum)\n",
    "            mean_diffs = np.zeros(0)\n",
    "\n",
    "        for i in range(num_samples):\n",
    "            # select random input image\n",
    "            im_ind = np.random.randint(imgset.shape[0])\n",
    "            # compute first-order derivatives\n",
    "            ders = sess.run(tf.gradients(tf.log(probs[0,class_ind]), self.var_list), feed_dict={self.x: imgset[im_ind:im_ind+1]})\n",
    "            # square the derivatives and add to total\n",
    "            for v in range(len(self.F_accum)):\n",
    "                self.F_accum[v] += np.square(ders[v])\n",
    "            if(plot_diffs):\n",
    "                if i % disp_freq == 0 and i > 0:\n",
    "                    # recording mean diffs of F\n",
    "                    F_diff = 0\n",
    "                    for v in range(len(self.F_accum)):\n",
    "                        F_diff += np.sum(np.absolute(self.F_accum[v]/(i+1) - F_prev[v]))\n",
    "                    mean_diff = np.mean(F_diff)\n",
    "                    mean_diffs = np.append(mean_diffs, mean_diff)\n",
    "                    for v in range(len(self.F_accum)):\n",
    "                        F_prev[v] = self.F_accum[v]/(i+1)\n",
    "                    plt.plot(range(disp_freq+1, i+2, disp_freq), mean_diffs)\n",
    "                    plt.xlabel(\"Number of samples\")\n",
    "                    plt.ylabel(\"Mean absolute Fisher difference\")\n",
    "                    display.display(plt.gcf())\n",
    "                    display.clear_output(wait=True)\n",
    "\n",
    "        # divide totals by number of samples\n",
    "        for v in range(len(self.F_accum)):\n",
    "            self.F_accum[v] /= num_samples\n",
    "    \n",
    "    def set_vanilla_loss(self):\n",
    "        self.train_step = tf.train.GradientDescentOptimizer(0.1).minimize(self.cross_entropy)\n",
    "\n",
    "    def star(self):\n",
    "    # used for saving optimal weights after most recent task training\n",
    "        self.star_vars = []\n",
    "        for v in range(len(self.var_list)):\n",
    "            self.star_vars.append(self.var_list[v].eval())\n",
    "    def update_ewc_loss(self, lam):\n",
    "        # elastic weight consolidation\n",
    "        # lam is weighting for previous task(s) constraints\n",
    "\n",
    "        if not hasattr(self, \"ewc_loss\"):\n",
    "            self.ewc_loss = self.cross_entropy\n",
    "\n",
    "        for v in range(len(self.var_list)):\n",
    "            self.ewc_loss += (lam/2) * tf.reduce_sum(tf.multiply(self.F_accum[v].astype(np.float32),tf.square(self.var_list[v] - self.star_vars[v])))\n",
    "        self.train_step = tf.train.GradientDescentOptimizer(0.1).minimize(self.ewc_loss)\n",
    " \n",
    "    def restore(self, sess):\n",
    "    # reassign optimal weights for latest task\n",
    "        if hasattr(self, \"star_vars\"):\n",
    "            for v in range(len(self.var_list)):\n",
    "                sess.run(self.var_list[v].assign(self.star_vars[v]))\n",
    "\n"
   ]
  },
  {
   "cell_type": "code",
   "execution_count": 42,
   "metadata": {
    "collapsed": false
   },
   "outputs": [
    {
     "name": "stdout",
     "output_type": "stream",
     "text": [
      "5\n",
      "[5, 5, 32, 64]\n",
      "[12544, 1024]\n",
      "Tensor(\"Relu_33:0\", shape=(?, 14, 14, 64), dtype=float32)\n",
      "Tensor(\"Reshape_53:0\", shape=(?, 12544), dtype=float32)\n",
      "8\n"
     ]
    }
   ],
   "source": [
    "\n",
    "model = Model(x, y_,dropout)\n",
    "print model.getVarList()\n",
    "sess = tf.InteractiveSession()\n",
    "sess.run(tf.global_variables_initializer())"
   ]
  },
  {
   "cell_type": "code",
   "execution_count": 19,
   "metadata": {
    "collapsed": false
   },
   "outputs": [
    {
     "name": "stdout",
     "output_type": "stream",
     "text": [
      "Extracting MNIST_data/train-images-idx3-ubyte.gz\n",
      "Extracting MNIST_data/train-labels-idx1-ubyte.gz\n",
      "Extracting MNIST_data/t10k-images-idx3-ubyte.gz\n",
      "Extracting MNIST_data/t10k-labels-idx1-ubyte.gz\n"
     ]
    }
   ],
   "source": [
    "mnist = input_data.read_data_sets('MNIST_data', one_hot=True)"
   ]
  },
  {
   "cell_type": "code",
   "execution_count": 20,
   "metadata": {
    "collapsed": true
   },
   "outputs": [],
   "source": [
    "def mnist_imshow(img):\n",
    "    plt.imshow(img.reshape([28,28]), cmap=\"gray\")\n",
    "    plt.axis('off')\n",
    "\n",
    "def permute_mnist(mnist):\n",
    "    perm_inds = range(mnist.train.images.shape[1])\n",
    "    np.random.shuffle(perm_inds)\n",
    "    mnist2 = deepcopy(mnist)\n",
    "    sets = [\"train\", \"validation\", \"test\"]\n",
    "    for set_name in sets:\n",
    "        this_set = getattr(mnist2, set_name) # shallow copy\n",
    "        this_set._images = np.transpose(np.array([this_set.images[:,c] for c in perm_inds]))\n",
    "    return mnist2\n",
    "\n",
    "def plot_test_acc(plot_handles):\n",
    "    plt.legend(handles=plot_handles, loc=\"center right\")\n",
    "    plt.xlabel(\"Iterations\")\n",
    "    plt.ylabel(\"Test Accuracy\")\n",
    "    plt.ylim(0,1)\n",
    "    display.display(plt.gcf())\n",
    "    display.clear_output(wait=True)\n"
   ]
  },
  {
   "cell_type": "code",
   "execution_count": 51,
   "metadata": {
    "collapsed": false
   },
   "outputs": [],
   "source": [
    "def train_task(model, num_iter, disp_freq, trainset, testsets, x, y_, lams=[0]):\n",
    "    for l in range(len(lams)):\n",
    "        # lams[l] sets weight on old task(s)\n",
    "        model.restore(sess) # reassign optimal weights from previous training session\n",
    "        if(lams[l] == 0):\n",
    "            model.set_vanilla_loss()\n",
    "        else:\n",
    "            model.update_ewc_loss(lams[l])\n",
    "        # initialize test accuracy array for each task \n",
    "        test_accs = []\n",
    "        for task in range(len(testsets)):\n",
    "            test_accs.append(np.zeros(num_iter/disp_freq))\n",
    "        # train on current task\n",
    "        step = 0\n",
    "        for iter in range(num_iter):\n",
    "            batch = trainset.train.next_batch(batch_size)\n",
    "            model.train_step.run(feed_dict={x: batch[0], y_: batch[1]})\n",
    "            if (iter % disp_freq == 0):\n",
    "                plt.subplot(1, len(lams), l+1)\n",
    "                plots = []\n",
    "                colors = ['r', 'b', 'g']\n",
    "                for task in range(len(testsets)):\n",
    "                    feed_dict={x: testsets[task].test.images, y_: testsets[task].test.labels}\n",
    "                    test_accs[task][iter/disp_freq] = model.accuracy.eval(feed_dict=feed_dict)\n",
    "                    c = chr(ord('A') + task)\n",
    "                    plot_h, = plt.plot(range(1,iter+2,disp_freq), test_accs[task][:iter/disp_freq+1], colors[task], label=\"task \" + c)\n",
    "                    plots.append(plot_h)\n",
    "                plot_test_acc(plots)\n",
    "                if l == 0: \n",
    "                    plt.title(\"sgd\")\n",
    "                else:\n",
    "                    plt.title(\"ewc\")\n",
    "                plt.gcf().set_size_inches(len(lams)*5, 3.5)"
   ]
  },
  {
   "cell_type": "code",
   "execution_count": 52,
   "metadata": {
    "collapsed": false
   },
   "outputs": [
    {
     "data": {
      "image/png": "[encoded data removed]",
      "text/plain": [
       "<matplotlib.figure.Figure at 0x113016d50>"
      ]
     },
     "metadata": {},
     "output_type": "display_data"
    }
   ],
   "source": [
    "train_task(model, 4000, 100, mnist, [mnist], x, y_, lams=[0])"
   ]
  },
  {
   "cell_type": "code",
   "execution_count": null,
   "metadata": {
    "collapsed": true
   },
   "outputs": [],
   "source": []
  }
 ],
 "metadata": {
  "kernelspec": {
   "display_name": "Python 2",
   "language": "python",
   "name": "python2"
  },
  "language_info": {
   "codemirror_mode": {
    "name": "ipython",
    "version": 2
   },
   "file_extension": ".py",
   "mimetype": "text/x-python",
   "name": "python",
   "nbconvert_exporter": "python",
   "pygments_lexer": "ipython2",
   "version": "2.7.12"
  }
 },
 "nbformat": 4,
 "nbformat_minor": 2
}
